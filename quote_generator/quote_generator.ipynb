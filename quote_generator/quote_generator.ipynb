{
 "cells": [
  {
   "cell_type": "code",
   "execution_count": 20,
   "metadata": {
    "collapsed": true
   },
   "outputs": [],
   "source": [
    "import pandas as pd\n",
    "import random"
   ]
  },
  {
   "cell_type": "code",
   "execution_count": 5,
   "metadata": {},
   "outputs": [
    {
     "data": {
      "text/plain": [
       "(36165, 2)"
      ]
     },
     "execution_count": 5,
     "metadata": {},
     "output_type": "execute_result"
    }
   ],
   "source": [
    "df_quotes = pd.read_csv('author-quote.txt', sep='\\t')\n",
    "df_quotes.head()\n",
    "df_quotes.shape"
   ]
  },
  {
   "cell_type": "code",
   "execution_count": 18,
   "metadata": {},
   "outputs": [
    {
     "data": {
      "text/plain": [
       "45954"
      ]
     },
     "execution_count": 18,
     "metadata": {},
     "output_type": "execute_result"
    }
   ],
   "source": [
    "model = {}\n",
    "for index, row in df_quotes.iterrows():\n",
    "    # print(row['Quote'])\n",
    "    line = row['Quote'].lower().split()\n",
    "    for i, word in enumerate(line):\n",
    "        if i == len(line)-1:   \n",
    "            model['END'] = model.get('END', []) + [word]\n",
    "        else:    \n",
    "            if i == 0:\n",
    "                model['START'] = model.get('START', []) + [word]\n",
    "            model[word] = model.get(word, []) + [line[i+1]]\n",
    "\n",
    "# len(model)"
   ]
  },
  {
   "cell_type": "code",
   "execution_count": 26,
   "metadata": {},
   "outputs": [
    {
     "name": "stdout",
     "output_type": "stream",
     "text": [
      "['i', 'love', 'what', 'we', 'lost', 'all', 'honesty,', 'integrity,', 'especially', 'at', 'the', 'more', 'work', 'with', 'black', 'operations', 'of', 'form', 'in', 'chains', '-', 'life', 'turned', 'into', 'the', 'art', 'is', 'the', 'big', 'hands,', 'will', 'not', 'proven.']\n"
     ]
    }
   ],
   "source": [
    "generated = []\n",
    "while True:\n",
    "    if not generated:\n",
    "        words = model['START']\n",
    "    elif generated[-1] in model['END']:\n",
    "        break\n",
    "    else:\n",
    "        words = model[generated[-1]]\n",
    "    generated.append(random.choice(words))\n",
    "\n",
    "print(generated)"
   ]
  },
  {
   "cell_type": "code",
   "execution_count": null,
   "metadata": {
    "collapsed": true
   },
   "outputs": [],
   "source": []
  },
  {
   "cell_type": "code",
   "execution_count": null,
   "metadata": {
    "collapsed": true
   },
   "outputs": [],
   "source": []
  }
 ],
 "metadata": {
  "kernelspec": {
   "display_name": "Python 3",
   "language": "python",
   "name": "python3"
  },
  "language_info": {
   "codemirror_mode": {
    "name": "ipython",
    "version": 3
   },
   "file_extension": ".py",
   "mimetype": "text/x-python",
   "name": "python",
   "nbconvert_exporter": "python",
   "pygments_lexer": "ipython3",
   "version": "3.6.3"
  }
 },
 "nbformat": 4,
 "nbformat_minor": 2
}
