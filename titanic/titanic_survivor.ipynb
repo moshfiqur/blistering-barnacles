{
 "cells": [
  {
   "cell_type": "code",
   "execution_count": 1,
   "metadata": {
    "_cell_guid": "6203644c-503d-4718-9c79-0551a02f50c6",
    "_uuid": "952103c9ec60ca6d22240e1c352bd48a4b5c8937"
   },
   "outputs": [
    {
     "name": "stdout",
     "output_type": "stream",
     "text": [
      "gender_submission.csv\n",
      "test.csv\n",
      "train.csv\n",
      "\n"
     ]
    }
   ],
   "source": [
    "# This Python 3 environment comes with many helpful analytics libraries installed\n",
    "# It is defined by the kaggle/python docker image: https://github.com/kaggle/docker-python\n",
    "# For example, here's several helpful packages to load in \n",
    "\n",
    "import numpy as np # linear algebra\n",
    "import pandas as pd # data processing, CSV file I/O (e.g. pd.read_csv)\n",
    "\n",
    "import matplotlib.pyplot as plt\n",
    "\n",
    "from sklearn.metrics import roc_auc_score\n",
    "\n",
    "# Input data files are available in the \"../input/\" directory.\n",
    "# For example, running this (by clicking run or pressing Shift+Enter) will list the files in the input directory\n",
    "\n",
    "from subprocess import check_output\n",
    "print(check_output([\"ls\", \"../input\"]).decode(\"utf8\"))\n",
    "\n",
    "# Any results you write to the current directory are saved as output."
   ]
  },
  {
   "cell_type": "code",
   "execution_count": 2,
   "metadata": {
    "_cell_guid": "8cfed11d-db3b-4960-a428-7ecdb8e58dae",
    "_uuid": "abf4a740d4296ca3c235897724935c60ea2bae91",
    "collapsed": true
   },
   "outputs": [],
   "source": [
    "def handle_non_numerical_data(df):\n",
    "    columns = df.columns.values\n",
    "    \n",
    "    for column in columns:\n",
    "        text_digit_vals = {}\n",
    "        def convert_to_int(val):\n",
    "            return text_digit_vals[val]\n",
    "        \n",
    "        if df[column].dtype != np.int64 and df[column].dtype != np.float64:\n",
    "            column_contents = df[column].values.tolist()\n",
    "            unique_elements = set(column_contents)\n",
    "            x = 0\n",
    "            for unique in unique_elements:\n",
    "                if unique not in text_digit_vals:\n",
    "                    text_digit_vals[unique] = x\n",
    "                    x += 1\n",
    "            \n",
    "            df[column] = list(map(convert_to_int, df[column]))\n",
    "            \n",
    "    return df"
   ]
  },
  {
   "cell_type": "code",
   "execution_count": 3,
   "metadata": {
    "_cell_guid": "c32274d6-3b88-4ead-9f9d-a0ca6d3fb438",
    "_uuid": "b929b8f930c7e00e80b2904f8f16e87650ddb2f3",
    "collapsed": true
   },
   "outputs": [],
   "source": [
    "# Look at ll the columns in the dataset\n",
    "def print_all(X, max_rows=5):\n",
    "    from IPython.display import display, HTML\n",
    "    display(HTML(X.to_html(max_rows=max_rows)))\n",
    "\n",
    "def describe_categorical(X):\n",
    "    from IPython.display import display, HTML\n",
    "    display(HTML(X[X.columns[X.dtypes == \"object\"]].describe().to_html()))\n",
    "\n",
    "# describe_categorical(X_train)\n",
    "# print_all(X_train)\n",
    "\n",
    "# Simple version that shows all of the variables\n",
    "def plot_feature_imp(model, X):\n",
    "    feature_importances = pd.Series(model.feature_importances_, index=X.columns)\n",
    "    feature_importances.sort_values(inplace=True)\n",
    "    feature_importances.plot(kind=\"barh\", figsize=(8, 6))\n",
    "    plt.show()"
   ]
  },
  {
   "cell_type": "code",
   "execution_count": 4,
   "metadata": {
    "_cell_guid": "65fde354-832c-4f81-b0ba-9acb55b03137",
    "_uuid": "b5476ec8df21c96c95528c88189b7ecf7a4c87df"
   },
   "outputs": [
    {
     "data": {
      "text/html": [
       "<div>\n",
       "<style>\n",
       "    .dataframe thead tr:only-child th {\n",
       "        text-align: right;\n",
       "    }\n",
       "\n",
       "    .dataframe thead th {\n",
       "        text-align: left;\n",
       "    }\n",
       "\n",
       "    .dataframe tbody tr th {\n",
       "        vertical-align: top;\n",
       "    }\n",
       "</style>\n",
       "<table border=\"1\" class=\"dataframe\">\n",
       "  <thead>\n",
       "    <tr style=\"text-align: right;\">\n",
       "      <th></th>\n",
       "      <th>Pclass</th>\n",
       "      <th>Sex</th>\n",
       "      <th>Age</th>\n",
       "      <th>Fare</th>\n",
       "      <th>Cabin</th>\n",
       "    </tr>\n",
       "    <tr>\n",
       "      <th>PassengerId</th>\n",
       "      <th></th>\n",
       "      <th></th>\n",
       "      <th></th>\n",
       "      <th></th>\n",
       "      <th></th>\n",
       "    </tr>\n",
       "  </thead>\n",
       "  <tbody>\n",
       "    <tr>\n",
       "      <th>1</th>\n",
       "      <td>3</td>\n",
       "      <td>0</td>\n",
       "      <td>22.0</td>\n",
       "      <td>7.2500</td>\n",
       "      <td>0</td>\n",
       "    </tr>\n",
       "    <tr>\n",
       "      <th>2</th>\n",
       "      <td>1</td>\n",
       "      <td>1</td>\n",
       "      <td>38.0</td>\n",
       "      <td>71.2833</td>\n",
       "      <td>72</td>\n",
       "    </tr>\n",
       "    <tr>\n",
       "      <th>3</th>\n",
       "      <td>3</td>\n",
       "      <td>1</td>\n",
       "      <td>26.0</td>\n",
       "      <td>7.9250</td>\n",
       "      <td>0</td>\n",
       "    </tr>\n",
       "    <tr>\n",
       "      <th>4</th>\n",
       "      <td>1</td>\n",
       "      <td>1</td>\n",
       "      <td>35.0</td>\n",
       "      <td>53.1000</td>\n",
       "      <td>63</td>\n",
       "    </tr>\n",
       "    <tr>\n",
       "      <th>5</th>\n",
       "      <td>3</td>\n",
       "      <td>0</td>\n",
       "      <td>35.0</td>\n",
       "      <td>8.0500</td>\n",
       "      <td>0</td>\n",
       "    </tr>\n",
       "  </tbody>\n",
       "</table>\n",
       "</div>"
      ],
      "text/plain": [
       "             Pclass  Sex   Age     Fare  Cabin\n",
       "PassengerId                                   \n",
       "1                 3    0  22.0   7.2500      0\n",
       "2                 1    1  38.0  71.2833     72\n",
       "3                 3    1  26.0   7.9250      0\n",
       "4                 1    1  35.0  53.1000     63\n",
       "5                 3    0  35.0   8.0500      0"
      ]
     },
     "execution_count": 4,
     "metadata": {},
     "output_type": "execute_result"
    }
   ],
   "source": [
    "df_gender = pd.read_csv('../input/gender_submission.csv')\n",
    "X_train = pd.read_csv('../input/train.csv')\n",
    "X_test = pd.read_csv('../input/test.csv')\n",
    "X_train.head(100)\n",
    "# df_gender.head(10)\n",
    "\n",
    "X_train = handle_non_numerical_data(X_train)\n",
    "X_test = handle_non_numerical_data(X_test)\n",
    "\n",
    "# print(X_test.head())\n",
    "# print(X_train.head())\n",
    "\n",
    "# Clean up the training and test data\n",
    "y_train = X_train.pop('Survived')\n",
    "# y_test = X_test.pop('Survived')\n",
    "# y_train.head()\n",
    "X_train.set_index('PassengerId', inplace=True)\n",
    "X_train.drop(['Name', 'SibSp', 'Parch', 'Ticket', 'Embarked'], inplace=True, axis=1)\n",
    "X_train['Age'].fillna(X_train.Age.mean(), inplace=True)\n",
    "X_train['Fare'].fillna(X_train.Fare.mean(), inplace=True)\n",
    "# X_train['Cabin'].fillna('---', inplace=True)\n",
    "\n",
    "X_test.set_index('PassengerId', inplace=True)\n",
    "X_test.drop(['Name', 'SibSp', 'Parch', 'Ticket', 'Embarked'], inplace=True, axis=1)\n",
    "X_test['Age'].fillna(X_train.Age.mean(), inplace=True)\n",
    "X_test['Fare'].fillna(X_train.Fare.mean(), inplace=True)\n",
    "# X_test['Cabin'].fillna('---', inplace=True)\n",
    "\n",
    "# predict_proba = model.predict_proba(X_test)[]\n",
    "X_train.head()\n"
   ]
  },
  {
   "cell_type": "code",
   "execution_count": 8,
   "metadata": {
    "_cell_guid": "ca0adede-4fdf-41e8-af27-4f6b94d3106b",
    "_uuid": "5b204a1623b22a4abd45725bed7f66e12dfa7a0b"
   },
   "outputs": [
    {
     "data": {
      "image/png": "[encoded data removed]",
      "text/plain": [
       "<matplotlib.figure.Figure at 0x112185eb8>"
      ]
     },
     "metadata": {},
     "output_type": "display_data"
    },
    {
     "name": "stdout",
     "output_type": "stream",
     "text": [
      "1.0\n"
     ]
    },
    {
     "data": {
      "text/html": [
       "<div>\n",
       "<style>\n",
       "    .dataframe thead tr:only-child th {\n",
       "        text-align: right;\n",
       "    }\n",
       "\n",
       "    .dataframe thead th {\n",
       "        text-align: left;\n",
       "    }\n",
       "\n",
       "    .dataframe tbody tr th {\n",
       "        vertical-align: top;\n",
       "    }\n",
       "</style>\n",
       "<table border=\"1\" class=\"dataframe\">\n",
       "  <thead>\n",
       "    <tr style=\"text-align: right;\">\n",
       "      <th></th>\n",
       "      <th>PassengerId</th>\n",
       "      <th>Survived</th>\n",
       "    </tr>\n",
       "  </thead>\n",
       "  <tbody>\n",
       "    <tr>\n",
       "      <th>0</th>\n",
       "      <td>892</td>\n",
       "      <td>0</td>\n",
       "    </tr>\n",
       "    <tr>\n",
       "      <th>1</th>\n",
       "      <td>893</td>\n",
       "      <td>0</td>\n",
       "    </tr>\n",
       "    <tr>\n",
       "      <th>2</th>\n",
       "      <td>894</td>\n",
       "      <td>1</td>\n",
       "    </tr>\n",
       "    <tr>\n",
       "      <th>3</th>\n",
       "      <td>895</td>\n",
       "      <td>1</td>\n",
       "    </tr>\n",
       "    <tr>\n",
       "      <th>4</th>\n",
       "      <td>896</td>\n",
       "      <td>0</td>\n",
       "    </tr>\n",
       "  </tbody>\n",
       "</table>\n",
       "</div>"
      ],
      "text/plain": [
       "   PassengerId  Survived\n",
       "0          892         0\n",
       "1          893         0\n",
       "2          894         1\n",
       "3          895         1\n",
       "4          896         0"
      ]
     },
     "execution_count": 8,
     "metadata": {},
     "output_type": "execute_result"
    }
   ],
   "source": [
    "from sklearn.ensemble import RandomForestClassifier\n",
    "\n",
    "model = RandomForestClassifier(n_estimators=200, random_state=0)\n",
    "model.fit(X_train, y_train)\n",
    "predict_proba = model.predict_proba(X_test)[:,1]\n",
    "y_predict = model.predict(X_test)\n",
    "\n",
    "result_df = pd.DataFrame(data={'PassengerId': X_test.index, 'Survived': y_predict})\n",
    "# result_df.columns = ['PassengerId', 'Survived']\n",
    "\n",
    "# print(result_df.head(100))\n",
    "\n",
    "plot_feature_imp(model, X_test)\n",
    "\n",
    "print(roc_auc_score(y_predict, predict_proba))\n",
    "\n",
    "file = open('submission.csv', 'w')\n",
    "file.write(result_df.to_csv(index=False))\n",
    "file.close()\n",
    "\n",
    "result_df.head()\n"
   ]
  },
  {
   "cell_type": "code",
   "execution_count": null,
   "metadata": {
    "_cell_guid": "d26abb4f-3775-4b29-b51a-71f22977ad10",
    "_uuid": "ffda83cd1ad0deadb304d04a443f14814e830845",
    "collapsed": true
   },
   "outputs": [],
   "source": []
  }
 ],
 "metadata": {
  "kernelspec": {
   "display_name": "Python 3",
   "language": "python",
   "name": "python3"
  },
  "language_info": {
   "codemirror_mode": {
    "name": "ipython",
    "version": 3
   },
   "file_extension": ".py",
   "mimetype": "text/x-python",
   "name": "python",
   "nbconvert_exporter": "python",
   "pygments_lexer": "ipython3",
   "version": "3.6.1"
  }
 },
 "nbformat": 4,
 "nbformat_minor": 1
}
